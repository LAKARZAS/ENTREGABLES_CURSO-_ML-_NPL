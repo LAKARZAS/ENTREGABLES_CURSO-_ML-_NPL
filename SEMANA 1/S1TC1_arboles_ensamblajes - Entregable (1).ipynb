{
 "cells": [
  {
   "cell_type": "markdown",
   "metadata": {},
   "source": [
    "![image info](https://raw.githubusercontent.com/albahnsen/MIAD_ML_and_NLP/main/images/banner_1.png)"
   ]
  },
  {
   "cell_type": "markdown",
   "metadata": {},
   "source": [
    "# Taller: Construcción e implementación de árboles de decisión y métodos de ensamblaje\n",
    "\n",
    "En este taller podrá poner en práctica los sus conocimientos sobre construcción e implementación de árboles de decisión y métodos de ensamblajes. El taller está constituido por 9 puntos, 5 relacionados con árboles de decisión (parte A) y 4 con métodos de ensamblaje (parte B)."
   ]
  },
  {
   "cell_type": "markdown",
   "metadata": {},
   "source": [
    "## Parte A - Árboles de decisión\n",
    "\n",
    "En esta parte del taller se usará el conjunto de datos de Capital Bikeshare de Kaggle, donde cada observación representa el alquiler de bicicletas durante una hora y día determinado. Para más detalles puede visitar los siguientes enlaces: [datos](https://archive.ics.uci.edu/ml/machine-learning-databases/00275/Bike-Sharing-Dataset.zip), [dicccionario de datos](https://archive.ics.uci.edu/ml/datasets/Bike+Sharing+Dataset#)."
   ]
  },
  {
   "cell_type": "markdown",
   "metadata": {},
   "source": [
    "### Datos prestamo de bicicletas"
   ]
  },
  {
   "cell_type": "code",
   "execution_count": 1,
   "metadata": {},
   "outputs": [],
   "source": [
    "import warnings\n",
    "warnings.filterwarnings('ignore')"
   ]
  },
  {
   "cell_type": "code",
   "execution_count": 2,
   "metadata": {},
   "outputs": [],
   "source": [
    "# Importación de librerías\n",
    "%matplotlib inline\n",
    "import pandas as pd\n",
    "import numpy as np\n",
    "import matplotlib.pyplot as plt\n",
    "\n",
    "from sklearn.model_selection import train_test_split, GridSearchCV\n",
    "from sklearn.model_selection import cross_val_score\n",
    "\n",
    "from sklearn.linear_model import LinearRegression\n",
    "from sklearn.tree import DecisionTreeRegressor, export_graphviz\n",
    "from sklearn.metrics import r2_score\n",
    "from sklearn.metrics import mean_squared_error\n",
    "\n",
    "from sklearn.tree import DecisionTreeClassifier\n",
    "from sklearn.linear_model import LogisticRegression\n",
    "from sklearn.metrics import accuracy_score, f1_score\n",
    "\n",
    "from sklearn.ensemble import BaggingClassifier, VotingClassifier\n",
    "from sklearn.ensemble import BaggingRegressor"
   ]
  },
  {
   "cell_type": "code",
   "execution_count": 3,
   "metadata": {},
   "outputs": [
    {
     "data": {
      "text/html": [
       "<div>\n",
       "<style scoped>\n",
       "    .dataframe tbody tr th:only-of-type {\n",
       "        vertical-align: middle;\n",
       "    }\n",
       "\n",
       "    .dataframe tbody tr th {\n",
       "        vertical-align: top;\n",
       "    }\n",
       "\n",
       "    .dataframe thead th {\n",
       "        text-align: right;\n",
       "    }\n",
       "</style>\n",
       "<table border=\"1\" class=\"dataframe\">\n",
       "  <thead>\n",
       "    <tr style=\"text-align: right;\">\n",
       "      <th></th>\n",
       "      <th>season</th>\n",
       "      <th>holiday</th>\n",
       "      <th>workingday</th>\n",
       "      <th>weather</th>\n",
       "      <th>temp</th>\n",
       "      <th>atemp</th>\n",
       "      <th>humidity</th>\n",
       "      <th>windspeed</th>\n",
       "      <th>casual</th>\n",
       "      <th>registered</th>\n",
       "      <th>total</th>\n",
       "      <th>hour</th>\n",
       "    </tr>\n",
       "    <tr>\n",
       "      <th>datetime</th>\n",
       "      <th></th>\n",
       "      <th></th>\n",
       "      <th></th>\n",
       "      <th></th>\n",
       "      <th></th>\n",
       "      <th></th>\n",
       "      <th></th>\n",
       "      <th></th>\n",
       "      <th></th>\n",
       "      <th></th>\n",
       "      <th></th>\n",
       "      <th></th>\n",
       "    </tr>\n",
       "  </thead>\n",
       "  <tbody>\n",
       "    <tr>\n",
       "      <th>2011-01-01 00:00:00</th>\n",
       "      <td>1</td>\n",
       "      <td>0</td>\n",
       "      <td>0</td>\n",
       "      <td>1</td>\n",
       "      <td>9.84</td>\n",
       "      <td>14.395</td>\n",
       "      <td>81</td>\n",
       "      <td>0.0</td>\n",
       "      <td>3</td>\n",
       "      <td>13</td>\n",
       "      <td>16</td>\n",
       "      <td>0</td>\n",
       "    </tr>\n",
       "    <tr>\n",
       "      <th>2011-01-01 01:00:00</th>\n",
       "      <td>1</td>\n",
       "      <td>0</td>\n",
       "      <td>0</td>\n",
       "      <td>1</td>\n",
       "      <td>9.02</td>\n",
       "      <td>13.635</td>\n",
       "      <td>80</td>\n",
       "      <td>0.0</td>\n",
       "      <td>8</td>\n",
       "      <td>32</td>\n",
       "      <td>40</td>\n",
       "      <td>1</td>\n",
       "    </tr>\n",
       "    <tr>\n",
       "      <th>2011-01-01 02:00:00</th>\n",
       "      <td>1</td>\n",
       "      <td>0</td>\n",
       "      <td>0</td>\n",
       "      <td>1</td>\n",
       "      <td>9.02</td>\n",
       "      <td>13.635</td>\n",
       "      <td>80</td>\n",
       "      <td>0.0</td>\n",
       "      <td>5</td>\n",
       "      <td>27</td>\n",
       "      <td>32</td>\n",
       "      <td>2</td>\n",
       "    </tr>\n",
       "    <tr>\n",
       "      <th>2011-01-01 03:00:00</th>\n",
       "      <td>1</td>\n",
       "      <td>0</td>\n",
       "      <td>0</td>\n",
       "      <td>1</td>\n",
       "      <td>9.84</td>\n",
       "      <td>14.395</td>\n",
       "      <td>75</td>\n",
       "      <td>0.0</td>\n",
       "      <td>3</td>\n",
       "      <td>10</td>\n",
       "      <td>13</td>\n",
       "      <td>3</td>\n",
       "    </tr>\n",
       "    <tr>\n",
       "      <th>2011-01-01 04:00:00</th>\n",
       "      <td>1</td>\n",
       "      <td>0</td>\n",
       "      <td>0</td>\n",
       "      <td>1</td>\n",
       "      <td>9.84</td>\n",
       "      <td>14.395</td>\n",
       "      <td>75</td>\n",
       "      <td>0.0</td>\n",
       "      <td>0</td>\n",
       "      <td>1</td>\n",
       "      <td>1</td>\n",
       "      <td>4</td>\n",
       "    </tr>\n",
       "  </tbody>\n",
       "</table>\n",
       "</div>"
      ],
      "text/plain": [
       "                     season  holiday  workingday  weather  temp   atemp  \\\n",
       "datetime                                                                  \n",
       "2011-01-01 00:00:00       1        0           0        1  9.84  14.395   \n",
       "2011-01-01 01:00:00       1        0           0        1  9.02  13.635   \n",
       "2011-01-01 02:00:00       1        0           0        1  9.02  13.635   \n",
       "2011-01-01 03:00:00       1        0           0        1  9.84  14.395   \n",
       "2011-01-01 04:00:00       1        0           0        1  9.84  14.395   \n",
       "\n",
       "                     humidity  windspeed  casual  registered  total  hour  \n",
       "datetime                                                                   \n",
       "2011-01-01 00:00:00        81        0.0       3          13     16     0  \n",
       "2011-01-01 01:00:00        80        0.0       8          32     40     1  \n",
       "2011-01-01 02:00:00        80        0.0       5          27     32     2  \n",
       "2011-01-01 03:00:00        75        0.0       3          10     13     3  \n",
       "2011-01-01 04:00:00        75        0.0       0           1      1     4  "
      ]
     },
     "execution_count": 3,
     "metadata": {},
     "output_type": "execute_result"
    }
   ],
   "source": [
    "# Lectura de la información de archivo .csv\n",
    "bikes = pd.read_csv('https://raw.githubusercontent.com/davidzarruk/MIAD_ML_NLP_2023/main/datasets/bikeshare.csv', index_col='datetime', parse_dates=True)\n",
    "\n",
    "# Renombrar variable \"count\" a \"total\"\n",
    "bikes.rename(columns={'count':'total'}, inplace=True)\n",
    "\n",
    "# Crear la hora como una variable \n",
    "bikes['hour'] = bikes.index.hour\n",
    "\n",
    "# Visualización de los datos\n",
    "bikes.head()"
   ]
  },
  {
   "cell_type": "markdown",
   "metadata": {},
   "source": [
    "### Punto 1 - Análisis descriptivo\n",
    "\n",
    "Ejecute las celdas 1.1 y 1.2. A partir de los resultados realice un análisis descriptivo sobre las variables \"season\" y \"hour\", escriba sus inferencias sobre los datos. Para complementar su análisis puede usar métricas como máximo, mínimo, percentiles entre otros."
   ]
  },
  {
   "cell_type": "code",
   "execution_count": 4,
   "metadata": {},
   "outputs": [
    {
     "data": {
      "text/plain": [
       "season\n",
       "1    116.343261\n",
       "2    215.251372\n",
       "3    234.417124\n",
       "4    198.988296\n",
       "Name: total, dtype: float64"
      ]
     },
     "execution_count": 4,
     "metadata": {},
     "output_type": "execute_result"
    }
   ],
   "source": [
    "# Celda 1.1\n",
    "bikes.groupby('season').total.mean()"
   ]
  },
  {
   "cell_type": "code",
   "execution_count": 5,
   "metadata": {
    "scrolled": true
   },
   "outputs": [
    {
     "data": {
      "text/plain": [
       "hour\n",
       "0      55.138462\n",
       "1      33.859031\n",
       "2      22.899554\n",
       "3      11.757506\n",
       "4       6.407240\n",
       "5      19.767699\n",
       "6      76.259341\n",
       "7     213.116484\n",
       "8     362.769231\n",
       "9     221.780220\n",
       "10    175.092308\n",
       "11    210.674725\n",
       "12    256.508772\n",
       "13    257.787281\n",
       "14    243.442982\n",
       "15    254.298246\n",
       "16    316.372807\n",
       "17    468.765351\n",
       "18    430.859649\n",
       "19    315.278509\n",
       "20    228.517544\n",
       "21    173.370614\n",
       "22    133.576754\n",
       "23     89.508772\n",
       "Name: total, dtype: float64"
      ]
     },
     "execution_count": 5,
     "metadata": {},
     "output_type": "execute_result"
    }
   ],
   "source": [
    "# Celda 1.2\n",
    "bikes.groupby('hour').total.mean()"
   ]
  },
  {
   "cell_type": "code",
   "execution_count": 6,
   "metadata": {},
   "outputs": [
    {
     "data": {
      "text/html": [
       "<div>\n",
       "<style scoped>\n",
       "    .dataframe tbody tr th:only-of-type {\n",
       "        vertical-align: middle;\n",
       "    }\n",
       "\n",
       "    .dataframe tbody tr th {\n",
       "        vertical-align: top;\n",
       "    }\n",
       "\n",
       "    .dataframe thead th {\n",
       "        text-align: right;\n",
       "    }\n",
       "</style>\n",
       "<table border=\"1\" class=\"dataframe\">\n",
       "  <thead>\n",
       "    <tr style=\"text-align: right;\">\n",
       "      <th></th>\n",
       "      <th>count</th>\n",
       "      <th>mean</th>\n",
       "      <th>std</th>\n",
       "      <th>min</th>\n",
       "      <th>25%</th>\n",
       "      <th>50%</th>\n",
       "      <th>75%</th>\n",
       "      <th>max</th>\n",
       "    </tr>\n",
       "    <tr>\n",
       "      <th>season</th>\n",
       "      <th></th>\n",
       "      <th></th>\n",
       "      <th></th>\n",
       "      <th></th>\n",
       "      <th></th>\n",
       "      <th></th>\n",
       "      <th></th>\n",
       "      <th></th>\n",
       "    </tr>\n",
       "  </thead>\n",
       "  <tbody>\n",
       "    <tr>\n",
       "      <th>1</th>\n",
       "      <td>2686.0</td>\n",
       "      <td>116.343261</td>\n",
       "      <td>125.273974</td>\n",
       "      <td>1.0</td>\n",
       "      <td>24.0</td>\n",
       "      <td>78.0</td>\n",
       "      <td>164.0</td>\n",
       "      <td>801.0</td>\n",
       "    </tr>\n",
       "    <tr>\n",
       "      <th>2</th>\n",
       "      <td>2733.0</td>\n",
       "      <td>215.251372</td>\n",
       "      <td>192.007843</td>\n",
       "      <td>1.0</td>\n",
       "      <td>49.0</td>\n",
       "      <td>172.0</td>\n",
       "      <td>321.0</td>\n",
       "      <td>873.0</td>\n",
       "    </tr>\n",
       "    <tr>\n",
       "      <th>3</th>\n",
       "      <td>2733.0</td>\n",
       "      <td>234.417124</td>\n",
       "      <td>197.151001</td>\n",
       "      <td>1.0</td>\n",
       "      <td>68.0</td>\n",
       "      <td>195.0</td>\n",
       "      <td>347.0</td>\n",
       "      <td>977.0</td>\n",
       "    </tr>\n",
       "    <tr>\n",
       "      <th>4</th>\n",
       "      <td>2734.0</td>\n",
       "      <td>198.988296</td>\n",
       "      <td>177.622409</td>\n",
       "      <td>1.0</td>\n",
       "      <td>51.0</td>\n",
       "      <td>161.0</td>\n",
       "      <td>294.0</td>\n",
       "      <td>948.0</td>\n",
       "    </tr>\n",
       "  </tbody>\n",
       "</table>\n",
       "</div>"
      ],
      "text/plain": [
       "         count        mean         std  min   25%    50%    75%    max\n",
       "season                                                                \n",
       "1       2686.0  116.343261  125.273974  1.0  24.0   78.0  164.0  801.0\n",
       "2       2733.0  215.251372  192.007843  1.0  49.0  172.0  321.0  873.0\n",
       "3       2733.0  234.417124  197.151001  1.0  68.0  195.0  347.0  977.0\n",
       "4       2734.0  198.988296  177.622409  1.0  51.0  161.0  294.0  948.0"
      ]
     },
     "execution_count": 6,
     "metadata": {},
     "output_type": "execute_result"
    }
   ],
   "source": [
    "#describe de la variable \"total\" segun season\n",
    "bikes.groupby('season').total.describe()"
   ]
  },
  {
   "cell_type": "markdown",
   "metadata": {},
   "source": [
    "Teniendo en cuenta que season corresponde a las estaciones (1:winter, 2:spring, 3:summer, 4:fall): \n",
    "\n",
    "- season=1 (invierno) es la estación en la que se alquilan menos bicicletas: 116.34 en promedio.\n",
    "- season=3 (verano) es la estación en la que se alquilan más bicicletas: 234.42 en promedio. \n",
    "- En verano, el numero de alquileres de bicecletas oscila entre 1 y 977. "
   ]
  },
  {
   "cell_type": "code",
   "execution_count": 7,
   "metadata": {},
   "outputs": [
    {
     "data": {
      "text/html": [
       "<div>\n",
       "<style scoped>\n",
       "    .dataframe tbody tr th:only-of-type {\n",
       "        vertical-align: middle;\n",
       "    }\n",
       "\n",
       "    .dataframe tbody tr th {\n",
       "        vertical-align: top;\n",
       "    }\n",
       "\n",
       "    .dataframe thead th {\n",
       "        text-align: right;\n",
       "    }\n",
       "</style>\n",
       "<table border=\"1\" class=\"dataframe\">\n",
       "  <thead>\n",
       "    <tr style=\"text-align: right;\">\n",
       "      <th></th>\n",
       "      <th>count</th>\n",
       "      <th>mean</th>\n",
       "      <th>std</th>\n",
       "      <th>min</th>\n",
       "      <th>25%</th>\n",
       "      <th>50%</th>\n",
       "      <th>75%</th>\n",
       "      <th>max</th>\n",
       "    </tr>\n",
       "    <tr>\n",
       "      <th>hour</th>\n",
       "      <th></th>\n",
       "      <th></th>\n",
       "      <th></th>\n",
       "      <th></th>\n",
       "      <th></th>\n",
       "      <th></th>\n",
       "      <th></th>\n",
       "      <th></th>\n",
       "    </tr>\n",
       "  </thead>\n",
       "  <tbody>\n",
       "    <tr>\n",
       "      <th>0</th>\n",
       "      <td>455.0</td>\n",
       "      <td>55.138462</td>\n",
       "      <td>43.620012</td>\n",
       "      <td>2.0</td>\n",
       "      <td>24.00</td>\n",
       "      <td>41.0</td>\n",
       "      <td>74.50</td>\n",
       "      <td>283.0</td>\n",
       "    </tr>\n",
       "    <tr>\n",
       "      <th>1</th>\n",
       "      <td>454.0</td>\n",
       "      <td>33.859031</td>\n",
       "      <td>34.112105</td>\n",
       "      <td>1.0</td>\n",
       "      <td>11.00</td>\n",
       "      <td>19.0</td>\n",
       "      <td>46.00</td>\n",
       "      <td>168.0</td>\n",
       "    </tr>\n",
       "    <tr>\n",
       "      <th>2</th>\n",
       "      <td>448.0</td>\n",
       "      <td>22.899554</td>\n",
       "      <td>26.110267</td>\n",
       "      <td>1.0</td>\n",
       "      <td>5.00</td>\n",
       "      <td>11.0</td>\n",
       "      <td>32.00</td>\n",
       "      <td>119.0</td>\n",
       "    </tr>\n",
       "    <tr>\n",
       "      <th>3</th>\n",
       "      <td>433.0</td>\n",
       "      <td>11.757506</td>\n",
       "      <td>12.666442</td>\n",
       "      <td>1.0</td>\n",
       "      <td>3.00</td>\n",
       "      <td>6.0</td>\n",
       "      <td>15.00</td>\n",
       "      <td>66.0</td>\n",
       "    </tr>\n",
       "    <tr>\n",
       "      <th>4</th>\n",
       "      <td>442.0</td>\n",
       "      <td>6.407240</td>\n",
       "      <td>4.217633</td>\n",
       "      <td>1.0</td>\n",
       "      <td>3.00</td>\n",
       "      <td>6.0</td>\n",
       "      <td>9.00</td>\n",
       "      <td>28.0</td>\n",
       "    </tr>\n",
       "    <tr>\n",
       "      <th>5</th>\n",
       "      <td>452.0</td>\n",
       "      <td>19.767699</td>\n",
       "      <td>12.784293</td>\n",
       "      <td>1.0</td>\n",
       "      <td>8.00</td>\n",
       "      <td>19.0</td>\n",
       "      <td>29.00</td>\n",
       "      <td>57.0</td>\n",
       "    </tr>\n",
       "    <tr>\n",
       "      <th>6</th>\n",
       "      <td>455.0</td>\n",
       "      <td>76.259341</td>\n",
       "      <td>54.745333</td>\n",
       "      <td>1.0</td>\n",
       "      <td>24.50</td>\n",
       "      <td>75.0</td>\n",
       "      <td>118.00</td>\n",
       "      <td>213.0</td>\n",
       "    </tr>\n",
       "    <tr>\n",
       "      <th>7</th>\n",
       "      <td>455.0</td>\n",
       "      <td>213.116484</td>\n",
       "      <td>159.207044</td>\n",
       "      <td>1.0</td>\n",
       "      <td>63.00</td>\n",
       "      <td>208.0</td>\n",
       "      <td>334.00</td>\n",
       "      <td>596.0</td>\n",
       "    </tr>\n",
       "    <tr>\n",
       "      <th>8</th>\n",
       "      <td>455.0</td>\n",
       "      <td>362.769231</td>\n",
       "      <td>231.723065</td>\n",
       "      <td>8.0</td>\n",
       "      <td>133.50</td>\n",
       "      <td>392.0</td>\n",
       "      <td>563.50</td>\n",
       "      <td>839.0</td>\n",
       "    </tr>\n",
       "    <tr>\n",
       "      <th>9</th>\n",
       "      <td>455.0</td>\n",
       "      <td>221.780220</td>\n",
       "      <td>92.099209</td>\n",
       "      <td>14.0</td>\n",
       "      <td>161.00</td>\n",
       "      <td>217.0</td>\n",
       "      <td>294.50</td>\n",
       "      <td>414.0</td>\n",
       "    </tr>\n",
       "    <tr>\n",
       "      <th>10</th>\n",
       "      <td>455.0</td>\n",
       "      <td>175.092308</td>\n",
       "      <td>101.807629</td>\n",
       "      <td>17.0</td>\n",
       "      <td>106.00</td>\n",
       "      <td>149.0</td>\n",
       "      <td>218.50</td>\n",
       "      <td>539.0</td>\n",
       "    </tr>\n",
       "    <tr>\n",
       "      <th>11</th>\n",
       "      <td>455.0</td>\n",
       "      <td>210.674725</td>\n",
       "      <td>127.444294</td>\n",
       "      <td>10.0</td>\n",
       "      <td>123.00</td>\n",
       "      <td>183.0</td>\n",
       "      <td>265.50</td>\n",
       "      <td>647.0</td>\n",
       "    </tr>\n",
       "    <tr>\n",
       "      <th>12</th>\n",
       "      <td>456.0</td>\n",
       "      <td>256.508772</td>\n",
       "      <td>143.881880</td>\n",
       "      <td>3.0</td>\n",
       "      <td>157.00</td>\n",
       "      <td>234.5</td>\n",
       "      <td>332.00</td>\n",
       "      <td>757.0</td>\n",
       "    </tr>\n",
       "    <tr>\n",
       "      <th>13</th>\n",
       "      <td>456.0</td>\n",
       "      <td>257.787281</td>\n",
       "      <td>149.167185</td>\n",
       "      <td>11.0</td>\n",
       "      <td>154.00</td>\n",
       "      <td>226.5</td>\n",
       "      <td>329.00</td>\n",
       "      <td>729.0</td>\n",
       "    </tr>\n",
       "    <tr>\n",
       "      <th>14</th>\n",
       "      <td>456.0</td>\n",
       "      <td>243.442982</td>\n",
       "      <td>147.563199</td>\n",
       "      <td>12.0</td>\n",
       "      <td>144.00</td>\n",
       "      <td>212.0</td>\n",
       "      <td>311.25</td>\n",
       "      <td>730.0</td>\n",
       "    </tr>\n",
       "    <tr>\n",
       "      <th>15</th>\n",
       "      <td>456.0</td>\n",
       "      <td>254.298246</td>\n",
       "      <td>144.235670</td>\n",
       "      <td>7.0</td>\n",
       "      <td>154.00</td>\n",
       "      <td>232.0</td>\n",
       "      <td>331.00</td>\n",
       "      <td>724.0</td>\n",
       "    </tr>\n",
       "    <tr>\n",
       "      <th>16</th>\n",
       "      <td>456.0</td>\n",
       "      <td>316.372807</td>\n",
       "      <td>145.664786</td>\n",
       "      <td>11.0</td>\n",
       "      <td>211.75</td>\n",
       "      <td>309.5</td>\n",
       "      <td>421.00</td>\n",
       "      <td>783.0</td>\n",
       "    </tr>\n",
       "    <tr>\n",
       "      <th>17</th>\n",
       "      <td>456.0</td>\n",
       "      <td>468.765351</td>\n",
       "      <td>223.775485</td>\n",
       "      <td>15.0</td>\n",
       "      <td>277.00</td>\n",
       "      <td>480.5</td>\n",
       "      <td>608.50</td>\n",
       "      <td>970.0</td>\n",
       "    </tr>\n",
       "    <tr>\n",
       "      <th>18</th>\n",
       "      <td>456.0</td>\n",
       "      <td>430.859649</td>\n",
       "      <td>219.908138</td>\n",
       "      <td>23.0</td>\n",
       "      <td>240.75</td>\n",
       "      <td>422.5</td>\n",
       "      <td>564.00</td>\n",
       "      <td>977.0</td>\n",
       "    </tr>\n",
       "    <tr>\n",
       "      <th>19</th>\n",
       "      <td>456.0</td>\n",
       "      <td>315.278509</td>\n",
       "      <td>156.641732</td>\n",
       "      <td>11.0</td>\n",
       "      <td>190.00</td>\n",
       "      <td>312.5</td>\n",
       "      <td>416.00</td>\n",
       "      <td>743.0</td>\n",
       "    </tr>\n",
       "    <tr>\n",
       "      <th>20</th>\n",
       "      <td>456.0</td>\n",
       "      <td>228.517544</td>\n",
       "      <td>116.411565</td>\n",
       "      <td>11.0</td>\n",
       "      <td>136.75</td>\n",
       "      <td>224.0</td>\n",
       "      <td>302.00</td>\n",
       "      <td>551.0</td>\n",
       "    </tr>\n",
       "    <tr>\n",
       "      <th>21</th>\n",
       "      <td>456.0</td>\n",
       "      <td>173.370614</td>\n",
       "      <td>87.629319</td>\n",
       "      <td>6.0</td>\n",
       "      <td>103.50</td>\n",
       "      <td>171.5</td>\n",
       "      <td>230.00</td>\n",
       "      <td>584.0</td>\n",
       "    </tr>\n",
       "    <tr>\n",
       "      <th>22</th>\n",
       "      <td>456.0</td>\n",
       "      <td>133.576754</td>\n",
       "      <td>69.844495</td>\n",
       "      <td>9.0</td>\n",
       "      <td>80.00</td>\n",
       "      <td>129.0</td>\n",
       "      <td>175.00</td>\n",
       "      <td>502.0</td>\n",
       "    </tr>\n",
       "    <tr>\n",
       "      <th>23</th>\n",
       "      <td>456.0</td>\n",
       "      <td>89.508772</td>\n",
       "      <td>51.638004</td>\n",
       "      <td>4.0</td>\n",
       "      <td>52.75</td>\n",
       "      <td>80.0</td>\n",
       "      <td>123.00</td>\n",
       "      <td>256.0</td>\n",
       "    </tr>\n",
       "  </tbody>\n",
       "</table>\n",
       "</div>"
      ],
      "text/plain": [
       "      count        mean         std   min     25%    50%     75%    max\n",
       "hour                                                                   \n",
       "0     455.0   55.138462   43.620012   2.0   24.00   41.0   74.50  283.0\n",
       "1     454.0   33.859031   34.112105   1.0   11.00   19.0   46.00  168.0\n",
       "2     448.0   22.899554   26.110267   1.0    5.00   11.0   32.00  119.0\n",
       "3     433.0   11.757506   12.666442   1.0    3.00    6.0   15.00   66.0\n",
       "4     442.0    6.407240    4.217633   1.0    3.00    6.0    9.00   28.0\n",
       "5     452.0   19.767699   12.784293   1.0    8.00   19.0   29.00   57.0\n",
       "6     455.0   76.259341   54.745333   1.0   24.50   75.0  118.00  213.0\n",
       "7     455.0  213.116484  159.207044   1.0   63.00  208.0  334.00  596.0\n",
       "8     455.0  362.769231  231.723065   8.0  133.50  392.0  563.50  839.0\n",
       "9     455.0  221.780220   92.099209  14.0  161.00  217.0  294.50  414.0\n",
       "10    455.0  175.092308  101.807629  17.0  106.00  149.0  218.50  539.0\n",
       "11    455.0  210.674725  127.444294  10.0  123.00  183.0  265.50  647.0\n",
       "12    456.0  256.508772  143.881880   3.0  157.00  234.5  332.00  757.0\n",
       "13    456.0  257.787281  149.167185  11.0  154.00  226.5  329.00  729.0\n",
       "14    456.0  243.442982  147.563199  12.0  144.00  212.0  311.25  730.0\n",
       "15    456.0  254.298246  144.235670   7.0  154.00  232.0  331.00  724.0\n",
       "16    456.0  316.372807  145.664786  11.0  211.75  309.5  421.00  783.0\n",
       "17    456.0  468.765351  223.775485  15.0  277.00  480.5  608.50  970.0\n",
       "18    456.0  430.859649  219.908138  23.0  240.75  422.5  564.00  977.0\n",
       "19    456.0  315.278509  156.641732  11.0  190.00  312.5  416.00  743.0\n",
       "20    456.0  228.517544  116.411565  11.0  136.75  224.0  302.00  551.0\n",
       "21    456.0  173.370614   87.629319   6.0  103.50  171.5  230.00  584.0\n",
       "22    456.0  133.576754   69.844495   9.0   80.00  129.0  175.00  502.0\n",
       "23    456.0   89.508772   51.638004   4.0   52.75   80.0  123.00  256.0"
      ]
     },
     "execution_count": 7,
     "metadata": {},
     "output_type": "execute_result"
    }
   ],
   "source": [
    "#describe de la variable \"total\" segun hour\n",
    "bikes.groupby('hour').total.describe()"
   ]
  },
  {
   "cell_type": "markdown",
   "metadata": {},
   "source": [
    "Teniendo en cuenta que hour corresponde a franjas horarias del día (1-23):\n",
    "\n",
    "- hour=4 es la franja horaria (entre 4am y 5am) en la que se alquilan menos bicicletas: 6.40 en promedio.\n",
    "- hour=17 es la franja horaria (entre 5pm y 6pm) en la que se alquilan más bicicletas: 468.76 en promedio.\n",
    "- En este horario (hour=17), el numero de alquileres oscila entre 15 y 970. "
   ]
  },
  {
   "cell_type": "markdown",
   "metadata": {},
   "source": [
    "### Punto 2 - Análisis de gráficos\n",
    "\n",
    "Primero ejecute la celda 2.1 y asegúrese de comprender el código y el resultado. Luego, en cada una de celdas 2.2 y 2.3 escriba un código que genere una gráfica del número de bicicletas rentadas promedio para cada valor de la variable \"hour\" (hora) cuando la variable \"season\" es igual a 1 (invierno) e igual a 3 (verano), respectivamente. Analice y escriba sus hallazgos."
   ]
  },
  {
   "cell_type": "code",
   "execution_count": 8,
   "metadata": {},
   "outputs": [
    {
     "data": {
      "text/plain": [
       "<AxesSubplot:xlabel='hour'>"
      ]
     },
     "execution_count": 8,
     "metadata": {},
     "output_type": "execute_result"
    },
    {
     "data": {
      "image/png": "[encoded data removed]",
      "text/plain": [
       "<Figure size 432x288 with 1 Axes>"
      ]
     },
     "metadata": {
      "needs_background": "light"
     },
     "output_type": "display_data"
    }
   ],
   "source": [
    "# Celda 2.1 - rentas promedio para cada valor de la variable \"hour\"\n",
    "bikes.groupby('hour').total.mean().plot()"
   ]
  },
  {
   "cell_type": "markdown",
   "metadata": {},
   "source": [
    "La gráfica anterior muestra el número total de bicicletas alquiladas en promedio por franja horaria. "
   ]
  },
  {
   "cell_type": "code",
   "execution_count": 9,
   "metadata": {},
   "outputs": [
    {
     "data": {
      "text/plain": [
       "<AxesSubplot:xlabel='hour'>"
      ]
     },
     "execution_count": 9,
     "metadata": {},
     "output_type": "execute_result"
    },
    {
     "data": {
      "image/png": "[encoded data removed]",
      "text/plain": [
       "<Figure size 432x288 with 1 Axes>"
      ]
     },
     "metadata": {
      "needs_background": "light"
     },
     "output_type": "display_data"
    }
   ],
   "source": [
    "# Celda 2.2 - \"season\"=1 escriba su código y hallazgos \n",
    "bikes[bikes.season==1].groupby('hour').total.mean().plot()"
   ]
  },
  {
   "cell_type": "code",
   "execution_count": 10,
   "metadata": {},
   "outputs": [
    {
     "data": {
      "text/plain": [
       "<AxesSubplot:xlabel='hour'>"
      ]
     },
     "execution_count": 10,
     "metadata": {},
     "output_type": "execute_result"
    },
    {
     "data": {
      "image/png": "[encoded data removed]",
      "text/plain": [
       "<Figure size 432x288 with 1 Axes>"
      ]
     },
     "metadata": {
      "needs_background": "light"
     },
     "output_type": "display_data"
    }
   ],
   "source": [
    "# Celda 2.3 - \"season\"=3 escriba su código y hallazgos \n",
    "bikes[bikes.season==3].groupby('hour').total.mean().plot()"
   ]
  },
  {
   "cell_type": "code",
   "execution_count": 11,
   "metadata": {},
   "outputs": [
    {
     "data": {
      "text/plain": [
       "<AxesSubplot:xlabel='hour'>"
      ]
     },
     "execution_count": 11,
     "metadata": {},
     "output_type": "execute_result"
    },
    {
     "data": {
      "image/png": "[encoded data removed]",
      "text/plain": [
       "<Figure size 432x288 with 1 Axes>"
      ]
     },
     "metadata": {
      "needs_background": "light"
     },
     "output_type": "display_data"
    }
   ],
   "source": [
    "# 3 gráficas unificadas\n",
    "bikes.groupby('hour').total.mean().plot()\n",
    "bikes[bikes.season==1].groupby('hour').total.mean().plot()\n",
    "bikes[bikes.season==3].groupby('hour').total.mean().plot()"
   ]
  },
  {
   "cell_type": "markdown",
   "metadata": {},
   "source": [
    "- El comportamiento del total de alquileres por franja horaria en ambas estaciones (season=1 invierno, season=3 verano) es similar.\n",
    "- El número total de alquileres realizados en invierno (linea naranja) es significativamente más bajo que verano (linea azul).\n",
    "- En hour 5-8 el total de alquileres realizados en promedio, es creciente al igual que de 15-17 horas donde alcanza su máximo y comienza a decrecer.\n"
   ]
  },
  {
   "cell_type": "markdown",
   "metadata": {},
   "source": [
    "### Punto 3 - Regresión lineal\n",
    "En la celda 3 ajuste un modelo de regresión lineal a todo el conjunto de datos, utilizando \"total\" como variable de respuesta y \"season\" y \"hour\" como las únicas variables predictoras, teniendo en cuenta que la variable \"season\" es categórica. Luego, imprima los coeficientes e interprételos. ¿Cuáles son las limitaciones de la regresión lineal en este caso?"
   ]
  },
  {
   "cell_type": "code",
   "execution_count": 12,
   "metadata": {},
   "outputs": [],
   "source": [
    "# Crear una lista con las variables predictoras\n",
    "feature_cols = ['season', 'hour']\n",
    "\n",
    "# Crear X (matriz de características)\n",
    "X = bikes[feature_cols]\n",
    "\n",
    "# Crear y (vector de respuesta)\n",
    "y = bikes.total\n",
    "\n",
    "#separacion train y test\n",
    "X_train, X_test, y_train, y_test = train_test_split(X, y, test_size=0.2, random_state=42)"
   ]
  },
  {
   "cell_type": "code",
   "execution_count": 13,
   "metadata": {},
   "outputs": [
    {
     "name": "stdout",
     "output_type": "stream",
     "text": [
      "Beta0 =  2.1473084972575123\n",
      "Beta1 =  26.939740519261665\n",
      "Beta2 =  10.554487200290028\n"
     ]
    }
   ],
   "source": [
    "# Instanciar el modelo de regresion lineal\n",
    "linreg = LinearRegression()\n",
    "\n",
    "# Ajustar el modelo\n",
    "linreg.fit(X_train, y_train)\n",
    "\n",
    "# Imprimir los coeficientes\n",
    "print(\"Beta0 = \",linreg.intercept_)\n",
    "print(\"Beta1 = \",linreg.coef_[0])\n",
    "print(\"Beta2 = \",linreg.coef_[1])"
   ]
  },
  {
   "cell_type": "markdown",
   "metadata": {},
   "source": [
    "¿Cuáles son las limitaciones de la regresión lineal en este caso?\n",
    "- Este modelo asume relación lineal entre variables.\n",
    "- Al ser la variable **sesion** categorica, la interpetacion del coeficiente asociado es diferente. Dado que este es positivo se puede decir que a medida que aumenta el codigo asignado a season (1:winter, 2:spring, 3:summer, 4:fall) aumenta el número promedio de alquileres.\n",
    "-  Sobre el coefiente asociado a **hour**:10.52, indica cuánto cambia la variable dependiente **(total)** por cada unidad de cambio en la variable independiente **(hour)**.\n"
   ]
  },
  {
   "cell_type": "code",
   "execution_count": 14,
   "metadata": {},
   "outputs": [
    {
     "name": "stdout",
     "output_type": "stream",
     "text": [
      "Desempeño Modelo LinearRegression:\n",
      "R cuadrado:  0.18507204048105597\n",
      "MSE:  26898.274894466886\n",
      "RMSE:  164.00693550721226\n"
     ]
    }
   ],
   "source": [
    "#prediciones modelo\n",
    "y_pred = linreg.predict(X_test)\n",
    "\n",
    "#calculo r2\n",
    "r2= r2_score(y_test, y_pred)\n",
    "\n",
    "#calculo mse\n",
    "mse= mean_squared_error(y_test, y_pred)\n",
    "\n",
    "#calculo rmse\n",
    "rmse= np.sqrt(mse)\n",
    "\n",
    "print(\"Desempeño Modelo LinearRegression:\")\n",
    "print(\"R cuadrado: \", r2)\n",
    "print(\"MSE: \", mse)\n",
    "print(\"RMSE: \", rmse)"
   ]
  },
  {
   "cell_type": "markdown",
   "metadata": {},
   "source": [
    "### Punto 4 - Árbol de decisión manual\n",
    "En la celda 4 cree un árbol de decisiones para pronosticar la variable \"total\" iterando **manualmente** sobre las variables \"hour\" y  \"season\". El árbol debe tener al menos 6 nodos finales."
   ]
  },
  {
   "cell_type": "code",
   "execution_count": 15,
   "metadata": {},
   "outputs": [],
   "source": [
    "import numpy as np\n",
    "import pandas as pd\n",
    "\n",
    "# Definición de parámetros y criterios de parada\n",
    "max_depth = 3\n",
    "num_pct = 10\n",
    "min_gain = 0.001\n",
    "\n",
    "# Asumiendo que X e y ya están definidos como tus características y objetivo respectivamente\n",
    "\n",
    "# Función para calcular el error cuadrático medio (MSE)\n",
    "def mse(y):\n",
    "    if y.shape[0] == 0:\n",
    "        return 0\n",
    "    else:\n",
    "        return np.mean((y - y.mean())**2)\n",
    "\n",
    "# Función para calcular la impureza del MSE\n",
    "def mse_impurity(X_col, y, split):\n",
    "    filter_l = X_col < split\n",
    "    y_l = y.loc[filter_l]\n",
    "    y_r = y.loc[~filter_l]\n",
    "\n",
    "    n_l = y_l.shape[0]\n",
    "    n_r = y_r.shape[0]\n",
    "\n",
    "    mse_y = mse(y)\n",
    "    mse_l = mse(y_l)\n",
    "    mse_r = mse(y_r)\n",
    "\n",
    "    mse_impurity_ = mse_y - (n_l / (n_l + n_r) * mse_l + n_r / (n_l + n_r) * mse_r)\n",
    "\n",
    "    return mse_impurity_\n",
    "\n",
    "# Función para obtener la mejor división\n",
    "def best_split(X, y, num_pct=10):\n",
    "    features = range(X.shape[1])\n",
    "\n",
    "    best_split = [0, 0, 0]  # j, split, gain\n",
    "\n",
    "    for j in features:\n",
    "        splits = np.percentile(X.iloc[:, j], np.arange(0, 100, 100.0 / (num_pct+1)).tolist())\n",
    "        splits = np.unique(splits)[1:]\n",
    "\n",
    "        for split in splits:\n",
    "            gain = mse_impurity(X.iloc[:, j], y, split)\n",
    "\n",
    "            if gain > best_split[2]:\n",
    "                best_split = [j, split, gain]\n",
    "\n",
    "    return best_split\n",
    "\n",
    "def tree_grow(X, y, level=0, min_gain=0.001, max_depth=None, num_pct=10):\n",
    "    if X.shape[0] == 1:\n",
    "        tree = dict(y_pred=y.iloc[:1].values[0], level=level, split=-1, n_samples=1, gain=0)\n",
    "        return tree\n",
    "\n",
    "    j, split, gain = best_split(X, y, num_pct)\n",
    "    \n",
    "    y_pred = y.mean()\n",
    "    \n",
    "    tree = dict(y_pred=y_pred, level=level, split=-1, n_samples=X.shape[0], gain=gain)\n",
    "\n",
    "    if gain < min_gain:\n",
    "        return tree\n",
    "    if max_depth is not None:\n",
    "        if level >= max_depth:\n",
    "            return tree   \n",
    "\n",
    "    filter_l = X.iloc[:, j] < split\n",
    "    X_l, y_l = X.loc[filter_l], y.loc[filter_l]\n",
    "    X_r, y_r = X.loc[~filter_l], y.loc[~filter_l]\n",
    "    tree['split'] = [j, split]\n",
    "\n",
    "    tree['sl'] = tree_grow(X_l, y_l, level + 1, min_gain=min_gain, max_depth=max_depth, num_pct=num_pct)\n",
    "    tree['sr'] = tree_grow(X_r, y_r, level + 1, min_gain=min_gain, max_depth=max_depth, num_pct=num_pct)\n",
    "\n",
    "    return tree\n",
    "\n",
    "def tree_predict(X, tree):\n",
    "    if tree['split'] == -1:\n",
    "        return np.ones(X.shape[0]) * tree['y_pred']\n",
    "    else:\n",
    "        j, split = tree['split']\n",
    "        filter_l = (X.iloc[:, j] < split)\n",
    "        X_l = X.loc[filter_l]\n",
    "        X_r = X.loc[~filter_l]\n",
    "        \n",
    "        predicted = np.zeros(X.shape[0])\n",
    "        predicted[filter_l] = tree_predict(X_l, tree['sl'])\n",
    "        predicted[~filter_l] = tree_predict(X_r, tree['sr'])\n",
    "        return predicted\n",
    "\n",
    "tree = tree_grow(X, y, level=0, min_gain=0.001, max_depth=3, num_pct=10)\n",
    "\n",
    "predictions = tree_predict(X, tree)\n"
   ]
  },
  {
   "cell_type": "markdown",
   "metadata": {},
   "source": [
    "### Punto 5 - Árbol de decisión con librería\n",
    "En la celda 5 entrene un árbol de decisiones con la **librería sklearn**, usando las variables predictoras \"season\" y \"hour\" y calibre los parámetros que considere conveniente para obtener un mejor desempeño. Recuerde dividir los datos en conjuntos de entrenamiento y validación para esto. Comente el desempeño del modelo con alguna métrica de desempeño de modelos de regresión y compare desempeño con el modelo del punto 3."
   ]
  },
  {
   "cell_type": "code",
   "execution_count": 16,
   "metadata": {},
   "outputs": [],
   "source": [
    "max_depth_range = range(1, 21)\n",
    "r2_scores = []\n",
    "\n",
    "for depth in max_depth_range:\n",
    "    # Definición del árbol de decisión usando DecisionTreeRegressor de la librería sklearn\n",
    "    clf = DecisionTreeRegressor(max_depth=depth, random_state=1)\n",
    "    # Entrenamiento del modelo usando los datos de entrenamiento\n",
    "    clf.fit(X_train, y_train)\n",
    "    # Predicción del modelo usando los datos de prueba\n",
    "    y_pred = clf.predict(X_test)\n",
    "    # Cálculo del R cuadrado del modelo\n",
    "    r2 = r2_score(y_test, y_pred)\n",
    "    r2_scores.append(r2)"
   ]
  },
  {
   "cell_type": "code",
   "execution_count": 17,
   "metadata": {},
   "outputs": [
    {
     "data": {
      "image/png": "[encoded data removed]",
      "text/plain": [
       "<Figure size 432x288 with 1 Axes>"
      ]
     },
     "metadata": {
      "needs_background": "light"
     },
     "output_type": "display_data"
    }
   ],
   "source": [
    "plt.plot(max_depth_range, r2_scores)\n",
    "plt.xlabel('max_depth')\n",
    "plt.ylabel('R^2')\n",
    "plt.show()"
   ]
  },
  {
   "cell_type": "code",
   "execution_count": 18,
   "metadata": {},
   "outputs": [
    {
     "name": "stdout",
     "output_type": "stream",
     "text": [
      "La mejor profundidad es: 9\n"
     ]
    }
   ],
   "source": [
    "best_depth = max_depth_range[np.argmax(r2_scores)]\n",
    "print('La mejor profundidad es:', best_depth)"
   ]
  },
  {
   "cell_type": "code",
   "execution_count": 19,
   "metadata": {},
   "outputs": [
    {
     "data": {
      "text/plain": [
       "DecisionTreeRegressor(max_depth=9, random_state=1)"
      ]
     },
     "execution_count": 19,
     "metadata": {},
     "output_type": "execute_result"
    }
   ],
   "source": [
    "clf = DecisionTreeRegressor(max_depth=best_depth, random_state=1)\n",
    "clf.fit(X_train, y_train)"
   ]
  },
  {
   "cell_type": "code",
   "execution_count": 20,
   "metadata": {},
   "outputs": [
    {
     "name": "stdout",
     "output_type": "stream",
     "text": [
      "Desempeño Modelo DecisionTreeRegressor:\n",
      "R cuadrado:  0.5924685874754883\n",
      "MSE:  13451.363196184311\n",
      "RMSE:  115.98001205459633\n"
     ]
    }
   ],
   "source": [
    "#Predicciones modelo\n",
    "y_pred = clf.predict(X_test)\n",
    "\n",
    "#calculo r2\n",
    "r2= r2_score(y_test, y_pred)\n",
    "\n",
    "#calculo mse\n",
    "mse= mean_squared_error(y_test, y_pred)\n",
    "\n",
    "#calculo rmse\n",
    "rmse= np.sqrt(mse)\n",
    "\n",
    "print(\"Desempeño Modelo DecisionTreeRegressor:\")\n",
    "print(\"R cuadrado: \", r2)\n",
    "print(\"MSE: \", mse)\n",
    "print(\"RMSE: \", rmse)"
   ]
  },
  {
   "cell_type": "code",
   "execution_count": 21,
   "metadata": {},
   "outputs": [
    {
     "data": {
      "text/html": [
       "<div>\n",
       "<style scoped>\n",
       "    .dataframe tbody tr th:only-of-type {\n",
       "        vertical-align: middle;\n",
       "    }\n",
       "\n",
       "    .dataframe tbody tr th {\n",
       "        vertical-align: top;\n",
       "    }\n",
       "\n",
       "    .dataframe thead th {\n",
       "        text-align: right;\n",
       "    }\n",
       "</style>\n",
       "<table border=\"1\" class=\"dataframe\">\n",
       "  <thead>\n",
       "    <tr style=\"text-align: right;\">\n",
       "      <th></th>\n",
       "      <th>feature</th>\n",
       "      <th>importance</th>\n",
       "    </tr>\n",
       "  </thead>\n",
       "  <tbody>\n",
       "    <tr>\n",
       "      <th>0</th>\n",
       "      <td>season</td>\n",
       "      <td>0.135838</td>\n",
       "    </tr>\n",
       "    <tr>\n",
       "      <th>1</th>\n",
       "      <td>hour</td>\n",
       "      <td>0.864162</td>\n",
       "    </tr>\n",
       "  </tbody>\n",
       "</table>\n",
       "</div>"
      ],
      "text/plain": [
       "  feature  importance\n",
       "0  season    0.135838\n",
       "1    hour    0.864162"
      ]
     },
     "execution_count": 21,
     "metadata": {},
     "output_type": "execute_result"
    }
   ],
   "source": [
    "# Uso de la función .feature_importances_ para obtener la importancia de cada variable\n",
    "pd.DataFrame({'feature':feature_cols, 'importance':clf.feature_importances_}).sort_values('importance')"
   ]
  },
  {
   "cell_type": "markdown",
   "metadata": {},
   "source": [
    "- El desempeño mejoró significativamente respecto al modelo de regresión lineal, pasando de un R2 de 0.185 a 0.592 pero sigue siendo bajo.\n",
    "- El RMSE mejoró respecto al modelo de regresión Lineal, pasando de 164.01 a 115.98.\n",
    "- Pese que el modelo DecisionTreeRegressor mejora significativamente el desempeño del modelo respecto al LinearRegression, el desempeño aún no es óptimo. Cabe resatar que sólo se esta modelando con 2 predictores (season, hour), donde la mayor importancia la tiene \"hour\" (0,86). Se sugiere explorar la inclusión de otros predictores que permitan mejorar el desempeño."
   ]
  },
  {
   "cell_type": "markdown",
   "metadata": {},
   "source": [
    "## Parte B - Métodos de ensamblajes\n",
    "En esta parte del taller se usará el conjunto de datos de Popularidad de Noticias Online. El objetivo es predecir si la notica es popular o no, la popularidad está dada por la cantidad de reacciones en redes sociales. Para más detalles puede visitar el siguiente enlace: [datos](https://archive.ics.uci.edu/ml/datasets/online+news+popularity)."
   ]
  },
  {
   "cell_type": "markdown",
   "metadata": {},
   "source": [
    "### Datos popularidad de noticias"
   ]
  },
  {
   "cell_type": "code",
   "execution_count": 22,
   "metadata": {},
   "outputs": [
    {
     "data": {
      "text/html": [
       "<div>\n",
       "<style scoped>\n",
       "    .dataframe tbody tr th:only-of-type {\n",
       "        vertical-align: middle;\n",
       "    }\n",
       "\n",
       "    .dataframe tbody tr th {\n",
       "        vertical-align: top;\n",
       "    }\n",
       "\n",
       "    .dataframe thead th {\n",
       "        text-align: right;\n",
       "    }\n",
       "</style>\n",
       "<table border=\"1\" class=\"dataframe\">\n",
       "  <thead>\n",
       "    <tr style=\"text-align: right;\">\n",
       "      <th></th>\n",
       "      <th>url</th>\n",
       "      <th>timedelta</th>\n",
       "      <th>n_tokens_title</th>\n",
       "      <th>n_tokens_content</th>\n",
       "      <th>n_unique_tokens</th>\n",
       "      <th>n_non_stop_words</th>\n",
       "      <th>n_non_stop_unique_tokens</th>\n",
       "      <th>num_hrefs</th>\n",
       "      <th>num_self_hrefs</th>\n",
       "      <th>num_imgs</th>\n",
       "      <th>...</th>\n",
       "      <th>min_positive_polarity</th>\n",
       "      <th>max_positive_polarity</th>\n",
       "      <th>avg_negative_polarity</th>\n",
       "      <th>min_negative_polarity</th>\n",
       "      <th>max_negative_polarity</th>\n",
       "      <th>title_subjectivity</th>\n",
       "      <th>title_sentiment_polarity</th>\n",
       "      <th>abs_title_subjectivity</th>\n",
       "      <th>abs_title_sentiment_polarity</th>\n",
       "      <th>Popular</th>\n",
       "    </tr>\n",
       "  </thead>\n",
       "  <tbody>\n",
       "    <tr>\n",
       "      <th>0</th>\n",
       "      <td>http://mashable.com/2014/12/10/cia-torture-rep...</td>\n",
       "      <td>28.0</td>\n",
       "      <td>9.0</td>\n",
       "      <td>188.0</td>\n",
       "      <td>0.732620</td>\n",
       "      <td>1.0</td>\n",
       "      <td>0.844262</td>\n",
       "      <td>5.0</td>\n",
       "      <td>1.0</td>\n",
       "      <td>1.0</td>\n",
       "      <td>...</td>\n",
       "      <td>0.200000</td>\n",
       "      <td>0.80</td>\n",
       "      <td>-0.487500</td>\n",
       "      <td>-0.60</td>\n",
       "      <td>-0.250000</td>\n",
       "      <td>0.9</td>\n",
       "      <td>0.8</td>\n",
       "      <td>0.4</td>\n",
       "      <td>0.8</td>\n",
       "      <td>1</td>\n",
       "    </tr>\n",
       "    <tr>\n",
       "      <th>1</th>\n",
       "      <td>http://mashable.com/2013/10/18/bitlock-kicksta...</td>\n",
       "      <td>447.0</td>\n",
       "      <td>7.0</td>\n",
       "      <td>297.0</td>\n",
       "      <td>0.653199</td>\n",
       "      <td>1.0</td>\n",
       "      <td>0.815789</td>\n",
       "      <td>9.0</td>\n",
       "      <td>4.0</td>\n",
       "      <td>1.0</td>\n",
       "      <td>...</td>\n",
       "      <td>0.160000</td>\n",
       "      <td>0.50</td>\n",
       "      <td>-0.135340</td>\n",
       "      <td>-0.40</td>\n",
       "      <td>-0.050000</td>\n",
       "      <td>0.1</td>\n",
       "      <td>-0.1</td>\n",
       "      <td>0.4</td>\n",
       "      <td>0.1</td>\n",
       "      <td>0</td>\n",
       "    </tr>\n",
       "    <tr>\n",
       "      <th>2</th>\n",
       "      <td>http://mashable.com/2013/07/24/google-glass-po...</td>\n",
       "      <td>533.0</td>\n",
       "      <td>11.0</td>\n",
       "      <td>181.0</td>\n",
       "      <td>0.660377</td>\n",
       "      <td>1.0</td>\n",
       "      <td>0.775701</td>\n",
       "      <td>4.0</td>\n",
       "      <td>3.0</td>\n",
       "      <td>1.0</td>\n",
       "      <td>...</td>\n",
       "      <td>0.136364</td>\n",
       "      <td>1.00</td>\n",
       "      <td>0.000000</td>\n",
       "      <td>0.00</td>\n",
       "      <td>0.000000</td>\n",
       "      <td>0.3</td>\n",
       "      <td>1.0</td>\n",
       "      <td>0.2</td>\n",
       "      <td>1.0</td>\n",
       "      <td>0</td>\n",
       "    </tr>\n",
       "    <tr>\n",
       "      <th>3</th>\n",
       "      <td>http://mashable.com/2013/11/21/these-are-the-m...</td>\n",
       "      <td>413.0</td>\n",
       "      <td>12.0</td>\n",
       "      <td>781.0</td>\n",
       "      <td>0.497409</td>\n",
       "      <td>1.0</td>\n",
       "      <td>0.677350</td>\n",
       "      <td>10.0</td>\n",
       "      <td>3.0</td>\n",
       "      <td>1.0</td>\n",
       "      <td>...</td>\n",
       "      <td>0.100000</td>\n",
       "      <td>1.00</td>\n",
       "      <td>-0.195701</td>\n",
       "      <td>-0.40</td>\n",
       "      <td>-0.071429</td>\n",
       "      <td>0.0</td>\n",
       "      <td>0.0</td>\n",
       "      <td>0.5</td>\n",
       "      <td>0.0</td>\n",
       "      <td>0</td>\n",
       "    </tr>\n",
       "    <tr>\n",
       "      <th>4</th>\n",
       "      <td>http://mashable.com/2014/02/11/parking-ticket-...</td>\n",
       "      <td>331.0</td>\n",
       "      <td>8.0</td>\n",
       "      <td>177.0</td>\n",
       "      <td>0.685714</td>\n",
       "      <td>1.0</td>\n",
       "      <td>0.830357</td>\n",
       "      <td>3.0</td>\n",
       "      <td>2.0</td>\n",
       "      <td>1.0</td>\n",
       "      <td>...</td>\n",
       "      <td>0.100000</td>\n",
       "      <td>0.55</td>\n",
       "      <td>-0.175000</td>\n",
       "      <td>-0.25</td>\n",
       "      <td>-0.100000</td>\n",
       "      <td>0.0</td>\n",
       "      <td>0.0</td>\n",
       "      <td>0.5</td>\n",
       "      <td>0.0</td>\n",
       "      <td>0</td>\n",
       "    </tr>\n",
       "  </tbody>\n",
       "</table>\n",
       "<p>5 rows × 61 columns</p>\n",
       "</div>"
      ],
      "text/plain": [
       "                                                 url  timedelta  \\\n",
       "0  http://mashable.com/2014/12/10/cia-torture-rep...       28.0   \n",
       "1  http://mashable.com/2013/10/18/bitlock-kicksta...      447.0   \n",
       "2  http://mashable.com/2013/07/24/google-glass-po...      533.0   \n",
       "3  http://mashable.com/2013/11/21/these-are-the-m...      413.0   \n",
       "4  http://mashable.com/2014/02/11/parking-ticket-...      331.0   \n",
       "\n",
       "   n_tokens_title  n_tokens_content  n_unique_tokens  n_non_stop_words  \\\n",
       "0             9.0             188.0         0.732620               1.0   \n",
       "1             7.0             297.0         0.653199               1.0   \n",
       "2            11.0             181.0         0.660377               1.0   \n",
       "3            12.0             781.0         0.497409               1.0   \n",
       "4             8.0             177.0         0.685714               1.0   \n",
       "\n",
       "   n_non_stop_unique_tokens  num_hrefs  num_self_hrefs  num_imgs  ...  \\\n",
       "0                  0.844262        5.0             1.0       1.0  ...   \n",
       "1                  0.815789        9.0             4.0       1.0  ...   \n",
       "2                  0.775701        4.0             3.0       1.0  ...   \n",
       "3                  0.677350       10.0             3.0       1.0  ...   \n",
       "4                  0.830357        3.0             2.0       1.0  ...   \n",
       "\n",
       "   min_positive_polarity  max_positive_polarity  avg_negative_polarity  \\\n",
       "0               0.200000                   0.80              -0.487500   \n",
       "1               0.160000                   0.50              -0.135340   \n",
       "2               0.136364                   1.00               0.000000   \n",
       "3               0.100000                   1.00              -0.195701   \n",
       "4               0.100000                   0.55              -0.175000   \n",
       "\n",
       "   min_negative_polarity  max_negative_polarity  title_subjectivity  \\\n",
       "0                  -0.60              -0.250000                 0.9   \n",
       "1                  -0.40              -0.050000                 0.1   \n",
       "2                   0.00               0.000000                 0.3   \n",
       "3                  -0.40              -0.071429                 0.0   \n",
       "4                  -0.25              -0.100000                 0.0   \n",
       "\n",
       "   title_sentiment_polarity  abs_title_subjectivity  \\\n",
       "0                       0.8                     0.4   \n",
       "1                      -0.1                     0.4   \n",
       "2                       1.0                     0.2   \n",
       "3                       0.0                     0.5   \n",
       "4                       0.0                     0.5   \n",
       "\n",
       "   abs_title_sentiment_polarity  Popular  \n",
       "0                           0.8        1  \n",
       "1                           0.1        0  \n",
       "2                           1.0        0  \n",
       "3                           0.0        0  \n",
       "4                           0.0        0  \n",
       "\n",
       "[5 rows x 61 columns]"
      ]
     },
     "execution_count": 22,
     "metadata": {},
     "output_type": "execute_result"
    }
   ],
   "source": [
    "# Lectura de la información de archivo .csv\n",
    "df = pd.read_csv('https://raw.githubusercontent.com/davidzarruk/MIAD_ML_NLP_2023/main/datasets/mashable.csv', index_col=0)\n",
    "df.head()"
   ]
  },
  {
   "cell_type": "code",
   "execution_count": 23,
   "metadata": {},
   "outputs": [
    {
     "data": {
      "text/plain": [
       "0.5"
      ]
     },
     "execution_count": 23,
     "metadata": {},
     "output_type": "execute_result"
    }
   ],
   "source": [
    "# Definición variable de interes y variables predictoras\n",
    "X = df.drop(['url', 'Popular'], axis=1)\n",
    "y = df['Popular']\n",
    "y.mean()"
   ]
  },
  {
   "cell_type": "code",
   "execution_count": 24,
   "metadata": {},
   "outputs": [],
   "source": [
    "# División de la muestra en set de entrenamiento y prueba\n",
    "from sklearn.model_selection import train_test_split\n",
    "X_train, X_test, y_train, y_test = train_test_split(X, y, random_state=1)"
   ]
  },
  {
   "cell_type": "markdown",
   "metadata": {},
   "source": [
    "### Punto 6 - Árbol de decisión y regresión logística\n",
    "En la celda 6 construya un árbol de decisión y una regresión logística. Para el árbol calibre al menos un parámetro y evalúe el desempeño de cada modelo usando las métricas de Accuracy y F1-Score."
   ]
  },
  {
   "cell_type": "code",
   "execution_count": 25,
   "metadata": {},
   "outputs": [
    {
     "name": "stdout",
     "output_type": "stream",
     "text": [
      "Accuracy logreg:  0.6146666666666667\n",
      "F1 Score logreg:  0.6110363391655451\n"
     ]
    }
   ],
   "source": [
    "#regresion logistica\n",
    "logreg = LogisticRegression()\n",
    "logreg.fit(X_train, y_train)\n",
    "y_pred = logreg.predict(X_test)\n",
    "\n",
    "#desempeño regresion logística\n",
    "Accuracy_logreg=accuracy_score(y_test, y_pred)\n",
    "F1_Score_logreg=f1_score(y_test, y_pred)\n",
    "print('Accuracy logreg: ', Accuracy_logreg)\n",
    "print('F1 Score logreg: ', F1_Score_logreg)"
   ]
  },
  {
   "cell_type": "code",
   "execution_count": 26,
   "metadata": {},
   "outputs": [],
   "source": [
    "#arbol de decision\n",
    "max_depth_range = range(1, 21)\n",
    "accuracy_scores = []\n",
    "\n",
    "for depth in max_depth_range:\n",
    "    # Definición del árbol de decisión usando DecisionTreeClassifier de la librería sklearn\n",
    "    clf = DecisionTreeClassifier(max_depth=depth, random_state=1)\n",
    "    # Entrenamiento del modelo usando los datos de entrenamiento\n",
    "    clf.fit(X_train, y_train)\n",
    "    # Predicción del modelo usando los datos de prueba\n",
    "    y_pred = clf.predict(X_test)\n",
    "    # Cálculo del accuracy del modelo\n",
    "    accuracy=accuracy_score(y_test, y_pred)\n",
    "    accuracy_scores.append(accuracy)"
   ]
  },
  {
   "cell_type": "code",
   "execution_count": 27,
   "metadata": {},
   "outputs": [
    {
     "data": {
      "image/png": "[encoded data removed]",
      "text/plain": [
       "<Figure size 432x288 with 1 Axes>"
      ]
     },
     "metadata": {
      "needs_background": "light"
     },
     "output_type": "display_data"
    }
   ],
   "source": [
    "plt.plot(max_depth_range, accuracy_scores)\n",
    "plt.xlabel('max_depth')\n",
    "plt.ylabel('Accuracy')\n",
    "plt.show()"
   ]
  },
  {
   "cell_type": "code",
   "execution_count": 28,
   "metadata": {},
   "outputs": [
    {
     "name": "stdout",
     "output_type": "stream",
     "text": [
      "La mejor profundidad es: 4\n"
     ]
    }
   ],
   "source": [
    "best_depth = max_depth_range[np.argmax(accuracy_scores)]\n",
    "print('La mejor profundidad es:', best_depth)"
   ]
  },
  {
   "cell_type": "code",
   "execution_count": 29,
   "metadata": {},
   "outputs": [
    {
     "data": {
      "text/plain": [
       "DecisionTreeClassifier(max_depth=4, random_state=1)"
      ]
     },
     "execution_count": 29,
     "metadata": {},
     "output_type": "execute_result"
    }
   ],
   "source": [
    "clf = DecisionTreeClassifier(max_depth=best_depth, random_state=1)\n",
    "clf.fit(X_train, y_train)"
   ]
  },
  {
   "cell_type": "code",
   "execution_count": 30,
   "metadata": {},
   "outputs": [
    {
     "name": "stdout",
     "output_type": "stream",
     "text": [
      "Accuracy:  0.6513333333333333\n",
      "F1 Score:  0.6345213137665969\n"
     ]
    }
   ],
   "source": [
    "#predicciones arbol de decision\n",
    "y_pred = clf.predict(X_test)\n",
    "\n",
    "#desempeño arbol de decision\n",
    "Accuracy=accuracy_score(y_test, y_pred)\n",
    "F1_Score=f1_score(y_test, y_pred)\n",
    "print('Accuracy: ', Accuracy)\n",
    "print('F1 Score: ', F1_Score)"
   ]
  },
  {
   "cell_type": "markdown",
   "metadata": {},
   "source": [
    "- El desempeño mejoró usando DecisionTreeClassifier respecto al modelo de LogisticRegression, pasando de un Accuracy de 0.61 a 0.65.\n",
    "- De forma similar el F1_Score mejoró, pasando de 0.61 con LogisticRegression a 0.63 con DecisionTreeClassifier.\n",
    "- Pese que el modelo DecisionTreeClassifier mejora ligeramente el desempeño del modelo respecto al LogisticRegression, el desempeño aún es óptimo. Se sugiere explorar alternativas adicionales que permitan mejorar el desempeño.\n",
    "- La mejora del desempeño de los modelos, tras la aplicación de árboles de decisión fue más marcada en el caso de regresión que en el de clasificación."
   ]
  },
  {
   "cell_type": "markdown",
   "metadata": {},
   "source": [
    "### Punto 7 - Votación Mayoritaria\n",
    "En la celda 7 elabore un esamble con la metodología de **Votación mayoritaria** compuesto por 300 muestras bagged para cada uno de los siguientes escenarios:\n",
    "\n",
    "-100 árboles de decisión donde max_depth tome un valor de su elección\\\n",
    "-100 árboles de decisión donde min_samples_leaf tome un valor de su elección\\\n",
    "-100 regresiones logísticas\n",
    "\n",
    "Evalúe cada uno de los tres modelos de manera independiente utilizando las métricas de Accuracy y F1-Score, luego evalúe el ensamble de modelos y compare los resultados. "
   ]
  },
  {
   "cell_type": "code",
   "execution_count": 31,
   "metadata": {},
   "outputs": [
    {
     "name": "stdout",
     "output_type": "stream",
     "text": [
      "Evaluación de los modelos individuales:\n",
      "Decision Tree 1:  0.6513333333333333 F1-Score;  0.6454237288135594\n",
      "Decision Tree 2:  0.6446666666666667 F1-Score;  0.6458471760797342\n",
      "Logistic Regression:  0.6213333333333333 F1-Score;  0.6172506738544474\n"
     ]
    }
   ],
   "source": [
    "# Creación de 100 árboles de decisión con max_depth=3 y 100 árboles de decisión con min_samples_leaf=5\n",
    "tree1 = DecisionTreeClassifier(max_depth=3)\n",
    "tree2 = DecisionTreeClassifier(min_samples_leaf=5)\n",
    "bagging_tree1 = BaggingClassifier(tree1, n_estimators=100, random_state=1)\n",
    "bagging_tree2 = BaggingClassifier(tree2, n_estimators=100, random_state=1)\n",
    "\n",
    "# Creación de 100 regresiones logísticas\n",
    "logistic = LogisticRegression()\n",
    "bagging_logistic=BaggingClassifier(logistic, n_estimators=100, random_state=1)\n",
    "\n",
    "# Entrenamiento de los modelos individuales\n",
    "bagging_tree1.fit(X_train, y_train)\n",
    "bagging_tree2.fit(X_train, y_train)\n",
    "bagging_logistic.fit(X_train, y_train)\n",
    "\n",
    "# Evaluación de los modelos individuales\n",
    "y_pred_tree1 = bagging_tree1.predict(X_test)\n",
    "y_pred_tree2 = bagging_tree2.predict(X_test)\n",
    "y_pred_logistic = bagging_logistic.predict(X_test)\n",
    "\n",
    "accuracy1=accuracy_score(y_test, y_pred_tree1)\n",
    "f1_score1=f1_score(y_test, y_pred_tree1)\n",
    "\n",
    "accuracy2=accuracy_score(y_test, y_pred_tree2)\n",
    "f1_score2=f1_score(y_test, y_pred_tree2)\n",
    "\n",
    "accuracy3=accuracy_score(y_test, y_pred_logistic)\n",
    "f1_score3=f1_score(y_test, y_pred_logistic)\n",
    "\n",
    "print(\"Evaluación de los modelos individuales:\")\n",
    "print(\"Decision Tree 1: \", accuracy1,  \"F1-Score; \", f1_score1)\n",
    "print(\"Decision Tree 2: \", accuracy2,  \"F1-Score; \", f1_score2)\n",
    "print(\"Logistic Regression: \", accuracy3,  \"F1-Score; \", f1_score3)"
   ]
  },
  {
   "cell_type": "code",
   "execution_count": 32,
   "metadata": {},
   "outputs": [
    {
     "name": "stdout",
     "output_type": "stream",
     "text": [
      "Evaluación ensamble 1 por votación mayoritaria:\n",
      "Accuracy : 0.652 f1_score:  0.648721399730821\n"
     ]
    }
   ],
   "source": [
    "# Ensamble por votación mayoritaria\n",
    "ensamble1 = VotingClassifier(estimators=[\n",
    "    ('tree1', bagging_tree1),\n",
    "    ('tree2', bagging_tree2),\n",
    "    ('logistic', bagging_logistic)\n",
    "], voting='hard')\n",
    "\n",
    "# Entrenamiento del ensamble por votación mayoritaria\n",
    "ensamble1.fit(X_train, y_train)\n",
    "\n",
    "# Evaluación del ensamble\n",
    "y_pred_ensamble1 = ensamble1.predict(X_test)\n",
    "\n",
    "accuracy_ensamble1=accuracy_score(y_test, y_pred_ensamble1)\n",
    "f1_score_ensamble1=f1_score(y_test, y_pred_ensamble1)\n",
    "\n",
    "\n",
    "print(\"Evaluación ensamble 1 por votación mayoritaria:\")\n",
    "print(\"Accuracy :\", accuracy_ensamble1,\"f1_score: \", f1_score_ensamble1 )"
   ]
  },
  {
   "cell_type": "markdown",
   "metadata": {},
   "source": [
    "Los modelos con muestras bagged para: \n",
    "- 100 árboles de decisión donde max_depth=3\n",
    "- 100 árboles de decisión donde min_samples_leaf=5\n",
    "\n",
    "Tienen desempeño similar con accuracy de apox 0.65 y F1-Score de 0.64. \n",
    "\n",
    "- La regresion logistica, tiene menor desempeño con acuuracy y F1-Score de aprox. 0.62. \n",
    "\n",
    "El ensamble por votación mayoritaria, tiene acuuracy y F1-Score de aprox. 0.65, luego no presenta mejora significativa respecto a los modelos anteriores con arboles de decision. \n",
    "\n"
   ]
  },
  {
   "cell_type": "markdown",
   "metadata": {},
   "source": [
    "### Punto 8 - Votación Ponderada\n",
    "En la celda 8 elabore un ensamble con la metodología de **Votación ponderada** compuesto por 300 muestras bagged para los mismos tres escenarios del punto 7. Evalúe los modelos utilizando las métricas de Accuracy y F1-Score"
   ]
  },
  {
   "cell_type": "code",
   "execution_count": 33,
   "metadata": {},
   "outputs": [
    {
     "name": "stdout",
     "output_type": "stream",
     "text": [
      "Evaluación ensamble 2 por votación ponnderada:\n",
      "Accuracy : 0.6553333333333333 f1_score:  0.656934306569343\n"
     ]
    }
   ],
   "source": [
    "# Ensamble por votación ponderada\n",
    "ensamble2 = VotingClassifier(estimators=[\n",
    "    ('tree1', bagging_tree1),\n",
    "    ('tree2', bagging_tree2),\n",
    "    ('logistic', bagging_logistic)\n",
    "], voting='soft')\n",
    "\n",
    "# Entrenamiento del ensamble por votación ponderada\n",
    "ensamble2.fit(X_train, y_train)\n",
    "\n",
    "# Evaluación del ensamble\n",
    "y_pred_ensamble2 = ensamble2.predict(X_test)\n",
    "\n",
    "accuracy_ensamble2=accuracy_score(y_test, y_pred_ensamble2)\n",
    "f1_score_ensamble2=f1_score(y_test, y_pred_ensamble2)\n",
    "\n",
    "\n",
    "print(\"Evaluación ensamble 2 por votación ponnderada:\")\n",
    "print(\"Accuracy :\", accuracy_ensamble2,\"f1_score: \", f1_score_ensamble2 )"
   ]
  },
  {
   "cell_type": "markdown",
   "metadata": {},
   "source": [
    "### Punto 9 - Comparación y análisis de resultados\n",
    "En la celda 9 comente sobre los resultados obtenidos con las metodologías usadas en los puntos 7 y 8, compare los resultados y enuncie posibles ventajas o desventajas de cada una de ellas."
   ]
  },
  {
   "cell_type": "code",
   "execution_count": 34,
   "metadata": {},
   "outputs": [
    {
     "data": {
      "image/png": "[encoded data removed]",
      "text/plain": [
       "<Figure size 432x576 with 2 Axes>"
      ]
     },
     "metadata": {
      "needs_background": "light"
     },
     "output_type": "display_data"
    }
   ],
   "source": [
    "# Crear una lista con los valores de las métricas para cada modelo\n",
    "accuracy_scores = [accuracy1, accuracy2, accuracy3, accuracy_ensamble1, accuracy_ensamble2]\n",
    "f1_scores = [f1_score1, f1_score2, f1_score3, f1_score_ensamble1, f1_score_ensamble2]\n",
    "\n",
    "\n",
    "# Definir las etiquetas para el eje X\n",
    "models = ['Tree 1', 'Tree 2', 'Logistic', 'Ensamble 1', 'Ensamble 2']\n",
    "\n",
    "\n",
    "# Crear una figura con dos subgráficos verticales\n",
    "fig, (ax1, ax2) = plt.subplots(2, 1, figsize=(6, 8))\n",
    "\n",
    "\n",
    "# Crear un gráfico de barras para accuracy_score\n",
    "ax1.bar(models, accuracy_scores, color='blue')\n",
    "ax1.set_ylabel('accuracy_score')\n",
    "\n",
    "\n",
    "# Añadir los valores de accuracy_score encima de las barras\n",
    "for i, score in enumerate(accuracy_scores):\n",
    "    ax1.text(i, score + 0.01, str(round(score, 3)), ha='center')\n",
    "    \n",
    "\n",
    "# Crear un gráfico de barras para f1_score\n",
    "ax2.bar(models, f1_scores, color='green')\n",
    "ax2.set_ylabel('f1_score')\n",
    "\n",
    "\n",
    "# Añadir los valores de f1_score encima de las barras\n",
    "for i, score in enumerate(f1_scores):\n",
    "    ax2.text(i, score + 0.01, str(round(score, 3)), ha='center')\n",
    "\n",
    "# Añadir títulos y ajustar la disposición de los subgráficos\n",
    "plt.suptitle('Comparación de métricas de desempeño para los 5 modelos')\n",
    "plt.tight_layout()\n",
    "\n",
    "# Mostrar el gráfico\n",
    "plt.show()"
   ]
  },
  {
   "cell_type": "markdown",
   "metadata": {},
   "source": [
    "El ensamblaje puede mejorar significativamente el desempeño de un modelo pero esto depende de varios factores, como la calidad de los modelos base, la diversidad entre los modelos base y el método de ensamblaje utilizado.En algunos casos, el ensamblaje puede incluso empeorar el desempeño del modelo si los modelos base son débiles o no están suficientemente diversificados. Además, el ensamblaje también puede aumentar la complejidad y el tiempo de entrenamiento del modelo.\n",
    "\n",
    "En este caso, los ensambles realizados teniendo en cuenta los 3 modelos originales, no mejoran significativamente el desempeño del modelo, obteniendo resultados similares a los de los árboles de decisión. "
   ]
  },
  {
   "cell_type": "code",
   "execution_count": null,
   "metadata": {},
   "outputs": [],
   "source": []
  }
 ],
 "metadata": {
  "kernelspec": {
   "display_name": "Python 3",
   "language": "python",
   "name": "python3"
  },
  "language_info": {
   "codemirror_mode": {
    "name": "ipython",
    "version": 3
   },
   "file_extension": ".py",
   "mimetype": "text/x-python",
   "name": "python",
   "nbconvert_exporter": "python",
   "pygments_lexer": "ipython3",
   "version": "3.8.5"
  },
  "vscode": {
   "interpreter": {
    "hash": "c38f2665486cd0e553a1306a7b6d7f13ad22f445f36ad0a2ccadb4042fcca240"
   }
  }
 },
 "nbformat": 4,
 "nbformat_minor": 4
}
